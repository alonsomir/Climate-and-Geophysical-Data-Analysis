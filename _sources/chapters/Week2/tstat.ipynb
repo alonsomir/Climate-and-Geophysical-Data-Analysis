{
 "cells": [
  {
   "cell_type": "markdown",
   "metadata": {},
   "source": [
    "# The *t*-Statistic\n",
    "## When the Sample Size is Small\n",
    "\n",
    "Think back to the *Central Limit Theorem* (CLT) that we discussed previously. What was the one caveat to that theorem (I kind of gave it away in the title to this section)?\n",
    "\n",
    "Right, the CLT only applies when the sample size $N$ is sufficiently large and by \"sufficiently large\", we mean approximately $N$ $\\geq$ 30.\n",
    "\n",
    "But, why is this a caveat of the CLT?\n",
    "\n",
    "Recall, the equation for the $z$-statistic,\n",
    "\n",
    "$$\n",
    "\\begin{align}\n",
    "z &= \\frac{\\overline{x} - \\mu}{\\frac{\\sigma}{\\sqrt{N}}}\n",
    "\\end{align}\n",
    "$$\n",
    "\n",
    "To use this equation, we need to know the population standard deviation, $\\sigma$, i.e. the standard deviation from the underlying distribution from which the sample is drawn. But often, we don't know what the underlying distribution. If we have a large enough sample, the sample standard deviation $s$ is a good approximation of the true population $\\sigma$.\n",
    "\n",
    "However, if $N$ < 30, this is not the case, and the $z$-statistic does not apply!\n",
    "\n",
    "In this case, one must use the **Student's $t$-statistic.** \n",
    "\n",
    "The $t$-statistic is analogous to the $z$-statistic, except that the probabilities are associated with the $t$-distribution rather than the standard normal distribution. The shape of the $t$-distribution depends on the [degrees of freedom](https://blog.minitab.com/blog/statistics-and-quality-data-analysis/what-are-degrees-of-freedom-in-statistics). \n",
    "\n",
    "In the simplest terms, the **degrees of freedom** ($\\nu$) correspond to the sample size $N$. Given that we have used one degree of freedom to estimate the population mean using the sample mean, we are only left with $N$-1 degrees of freedom to estimate the population variance using the sample variance. For large sample sizes, the difference between $N$ and $N$-1 is very small and the CLT applies, but for small sample sizes, the degrees of freedom can substantially affect the shape of the $t$-distribution.\n",
    "\n",
    "Let's compare the $z$- and $t$-distributions for different sample sizes."
   ]
  },
  {
   "cell_type": "code",
   "execution_count": 46,
   "metadata": {},
   "outputs": [],
   "source": [
    "# Load packages\n",
    "import numpy as np\n",
    "import matplotlib.pyplot as plt\n",
    "import scipy.stats as st"
   ]
  },
  {
   "cell_type": "markdown",
   "metadata": {},
   "source": [
    "Click on the \"Run Live Code\" button at the top of the page and try running this code with different values for the degrees of freedom (dof). Try the following: dof = 50, 30, 20, 10, 5, 2"
   ]
  },
  {
   "cell_type": "code",
   "execution_count": 47,
   "metadata": {},
   "outputs": [
    {
     "data": {
      "text/plain": [
       "<matplotlib.lines.Line2D at 0x7fdc301ae438>"
      ]
     },
     "execution_count": 47,
     "metadata": {},
     "output_type": "execute_result"
    },
    {
     "data": {
      "image/png": "[encoded data removed]",
      "text/plain": [
       "<Figure size 720x432 with 1 Axes>"
      ]
     },
     "metadata": {
      "needs_background": "light"
     },
     "output_type": "display_data"
    }
   ],
   "source": [
    "# Plot z and t distributions\n",
    "\n",
    "dof = 50 #degrees of freedom (N-1)\n",
    "x = np.arange(-6,6,.01)\n",
    "\n",
    "# Get distributions of z and t\n",
    "z = st.norm.pdf(x,0,1)\n",
    "t = st.t.pdf(x,dof)\n",
    "\n",
    "# Compute the 95% confidence intervals\n",
    "z95_neg = st.norm.ppf(0.025)\n",
    "t95_neg = st.t.ppf(0.025,dof)\n",
    "z95_pos = st.norm.ppf(0.975)\n",
    "t95_pos = st.t.ppf(0.975,dof)\n",
    "\n",
    "# Plot z and t\n",
    "plt.figure(figsize=(10,6))\n",
    "plt.plot(x,z, color = 'k', label = 'z')\n",
    "plt.plot(x,t,linestyle = '-', color = 'r', label = r\"t ($\\nu$ =\" + str(dof) + \")\")\n",
    "\n",
    "# Plot 95% confidence intervals\n",
    "plt.axvline(z95_neg,color='k')\n",
    "plt.axvline(t95_neg,color='r')\n",
    "plt.axvline(z95_pos,color='k')\n",
    "plt.axvline(t95_pos,color='r')\n",
    "\n",
    "#  Make the plot look nice!\n",
    "plt.title('z and Students-t Probability Density Functions')\n",
    "plt.ylabel('f(z)')\n",
    "plt.legend(frameon = 0,fontsize = 16)\n",
    "plt.xlim(-5,5)\n",
    "plt.ylim(0,.45)\n",
    "plt.yticks(np.arange(0,.5,.1))\n",
    "plt.axhline(0)"
   ]
  },
  {
   "cell_type": "markdown",
   "metadata": {
    "collapsed": true
   },
   "source": [
    "What happens as you change the dof?\n",
    "\n",
    "- smaller values of $N$ lead to longer tails for the $t$-distribution\n",
    "- as $N$ increases, the $t$-distribution approaches the $z$-distribution\n",
    "\n",
    "So, as $N$ get smaller then $t$-statistic gives more conservative probabilities (notice how the confidence intervals about the mean get larger as $N$ get smaller. In other words, we are less and less confident in our estimate of the true population mean)."
   ]
  },
  {
   "cell_type": "markdown",
   "metadata": {},
   "source": [
    "## Definition of the *t*-Statistic\n",
    "\n",
    "The $t$-statistic is defined as\n",
    "\n",
    "$$\n",
    "\\begin{align}\n",
    "t &= \\frac{\\overline{x} - \\mu}{\\frac{s}{\\sqrt{N-1}}}\n",
    "\\end{align}\n",
    "$$\n",
    "\n",
    "where $s$ is the sample standard deviation.\n",
    "\n",
    "Recall from the CLT example that when $N$ $\\geq$ 30, the true standard deviation of the distribution of sample means is well-approximated by $\\sigma/\\sqrt{N}$, where $\\sigma$ in the population standard deviation. This is the definition of the $z$-statistic. However, in the case of the $t$-statistic, we write $s$ since the true $\\sigma$ is unknown.\n",
    "\n",
    "Note the similarities between the $z$-statistic and the $t$-statistic. The main differences are the use of $s$ versus $\\sigma$ and dividing this by $\\sqrt{N-1}$ rather than $\\sqrt{N}$ to account for the loss of a degree of freedom.\n",
    "\n",
    "As before, we can manipulate the above equation to compute the $t$-statistic for the difference of means. It is very similar to that for the $z$-statistic, but with slight modifications. Assume two samples $N_1$ and $N_2$ are drawn from an normal distributions whose standard deviations are equal ($s_1$ = $s_2$).\n",
    "\n",
    "$$\n",
    "t = \\frac{(\\overline{x_1} - \\overline{x_2}) - \\Delta_{1,2}}{\\hat{s}\\sqrt{\\frac{1}{N_1 - 1} + \\frac{1}{N_2 - 1}}}\n",
    "$$\n",
    "\n",
    "where\n",
    "\n",
    "$$\n",
    "\\hat{s} = \\sqrt{\\frac{N_1s_1^2 + N_2s_2^2}{N_1 + N_2 - 2}}\n",
    "$$\n",
    "\n",
    "is the pooled standard deviation, the square-root of the weighted average of the sample variances.\n",
    "\n",
    "The degrees of freedom are $\\nu = N_1 + N_2 - 2$ and $\\Delta_{1,2}$ is the null hypothesized difference between the two means, which is typically zero in practice. \n",
    "\n",
    "\n",
    "\n",
    "### Confidence Intervals\n",
    "\n",
    "Just as we did for the $z$-statistic, we can determine confidence intervals on the true population mean, $\\mu$, using the $t$-statistic. Let's revisit our previous example but change the sample size:\n",
    "\n",
    "```{admonition} Question #5\n",
    ":class: tip\n",
    "Say we have surface air temperatures for 10 winters with a mean of 10°C and a standard deviation of 5°C. What is the 95% confidence interval on the true population mean? You may assume that the temperatures are normally distributed.\n",
    "```\n",
    "\n",
    "In this question, we are told to estimate the 95% confidence intervals. This means we should consider the 95% confidence level, i.e. the 5% significance level.\n",
    "\n",
    "To estimate the 95% confidence intervals on $\\mu$, we can simply rearrange the equation for $z$ as follows,\n",
    "\n",
    "$$\n",
    "\\begin{align}\n",
    "t &= \\frac{\\overline{x} - \\mu}{\\frac{s}{\\sqrt{N-1}}} \\\\\n",
    "\\mu & = \\overline{x} - t\\frac{s}{\\sqrt{N-1}}\n",
    "\\end{align}\n",
    "$$\n",
    "\n",
    "Since we are interested in the 95% confidence intervals centred on $\\mu$, and since the normal distribution is symmetric about the $\\mu$, this can be rewritten as,\n",
    "\n",
    "$$\n",
    "\\begin{align}\n",
    "\\mu & = \\overline{x} \\pm t_{\\alpha/2}\\frac{s}{\\sqrt{N-1}}\n",
    "\\end{align}\n",
    "$$\n",
    "\n",
    "where $t_{\\alpha/2}$ is the value for $t$ for a two-sided 95% confidence level (5% significance level). We can use python to find this value:"
   ]
  },
  {
   "cell_type": "code",
   "execution_count": 49,
   "metadata": {},
   "outputs": [
    {
     "name": "stdout",
     "output_type": "stream",
     "text": [
      "-2.26 2.26\n"
     ]
    }
   ],
   "source": [
    "# Question #5\n",
    "# find t values for a two-sided 95% confidence level\n",
    "N = 10\n",
    "dof = N - 1\n",
    "tneg = st.t.ppf(0.025,dof) # negative side of distribution\n",
    "tpos = st.t.ppf(0.975,dof) # positive side of distribution\n",
    "print(round(tneg,2),round(tpos,2))"
   ]
  },
  {
   "cell_type": "markdown",
   "metadata": {},
   "source": [
    "Plugging this all in, we get\n",
    "\n",
    "$$\n",
    "\\begin{align}\n",
    "\\mu & = 10 \\pm 2.26\\frac{5}{\\sqrt{9}}\\\\\n",
    "& = 10 \\pm 1.7\n",
    "\\end{align}\n",
    "$$\n",
    "\n",
    "Thus, the 95% confidence intervals on the true population mean, $\\mu$ are,\n",
    "\n",
    "$$\n",
    "6.23^{\\circ}C \\leq \\mu \\leq 13.77^{\\circ}C\n",
    "$$\n",
    "\n",
    "So, we can see that when we have a smaller sample size, we become less confident in our estimate of the true population mean.\n",
    "\n",
    "## *t*-Test: Key Assumption \n",
    "\n",
    "The *t*-test is ubiquitous in scientific literature and it often gets misused. One of the ways that it gets misused is that an important underlying assumption is often overlooked.\n",
    "\n",
    "```{warning}\n",
    "In order to use the $t$-statistic, the underlying distribution is assumed to be **normal**.\n",
    "```\n",
    "\n",
    "The moral of the story is: **always look at your data first!** Remember to:\n",
    "- Plot your data\n",
    "- Examine the skewness, kurtosis, etc.\n",
    "\n",
    "If your data is not normally distributed, but your sample size is large ($N \\geq$ 30), then the CLT applies and you can use a $z$-test. But, in practice, scientists tend to always use the $t$-test for large $N$ anyway, as the $t$- and $z$-distributions converge for large $N$.\n",
    "\n",
    "## Comparison of the *z*- and *t*-Statistic\n",
    "\n",
    "Let's take a look at an example and compare the results we get if we use the $z$- versus $t$-statistic.\n",
    "\n",
    "```{admonition} Question #6\n",
    ":class: tip\n",
    "You have 5 years of monthly-mean temperature data derived from the MSU4 satellite (upper stratosphere). The mean temperature along 60°N during January is -60°C and the standard deviation is 8°C. What are the 95% confidence limits on the true population mean?\n",
    "```\n",
    "\n",
    "**The z-Statistic:**\n",
    "\n",
    "The critical value $z_c$ = $\\pm$ 1.96 for 95% confidence. Thus, the population mean $\\mu$ is expected to lie within:\n",
    "\n",
    "$$\n",
    "\\begin{align}\n",
    "\\mu &= -60 \\pm 1.96\\frac{8}{\\sqrt{5}}\\\\\n",
    "&= -60 \\pm 7\n",
    "\\end{align}\n",
    "$$\n",
    "\n",
    "$$\n",
    "-67.0^{\\circ}C \\leq \\mu \\leq -53^{\\circ}C\n",
    "$$\n",
    "\n",
    "**The t-Statistic:**\n",
    "\n",
    "Assuming that the data is normally distributed, the critical value $t_c$ = 2.78 for $\\nu$ = 5 - 1 = 4. Thus, the population mean $\\mu$ is expected to lie within:\n",
    "\n",
    "$$\n",
    "\\begin{align}\n",
    "\\mu &= -60 \\pm 2.78\\frac{8}{\\sqrt{4}}\\\\\n",
    "&= -60 \\pm 11.1\n",
    "\\end{align}\n",
    "$$\n",
    "\n",
    "$$\n",
    "-71.1^{\\circ}C \\leq \\mu \\leq -48.9^{\\circ}C\n",
    "$$\n",
    "\n",
    "We can see that we get a more conservative estimate of the confidence intervals using the $t$-statistic, which reasonably reflects the fact that we have a very small sample size.\n",
    "\n",
    "## Hypothesis Testing and the *t*-Statistic\n",
    "\n",
    "Everything that we previously discussed about hypothesis testing and the $z$-statistic applies to the $t$-statistic. With respect to terminology, we simply swap the critical $z$-value, $z_c$ for the critical $t$-value, $t_c$. Then, you can proceed with the Five Simple Steps, just as before."
   ]
  },
  {
   "cell_type": "code",
   "execution_count": null,
   "metadata": {},
   "outputs": [],
   "source": []
  }
 ],
 "metadata": {
  "kernelspec": {
   "display_name": "Python 3",
   "language": "python",
   "name": "python3"
  },
  "language_info": {
   "codemirror_mode": {
    "name": "ipython",
    "version": 3
   },
   "file_extension": ".py",
   "mimetype": "text/x-python",
   "name": "python",
   "nbconvert_exporter": "python",
   "pygments_lexer": "ipython3",
   "version": "3.7.2"
  }
 },
 "nbformat": 4,
 "nbformat_minor": 1
}
