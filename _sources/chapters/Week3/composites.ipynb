{
 "cells": [
  {
   "cell_type": "markdown",
   "metadata": {},
   "source": [
    "# Compositing\n",
    "\n",
    "**Compositing** is one of the simplest analysis techniques imaginable and is often used as an alternative to linear regression. It is very powerful, but can also be [misused](https://www.nature.com/articles/srep29599). \n",
    "\n",
    "In essence, compositing involves sorting data into categories and comparing the statistics for different categories. \n",
    "\n",
    "The idea is by categorizing and averaging the data in a way that reflects the hypothesis you are testing, you can isolate the signal and remove some of the background “noise”.\n",
    "\n",
    "## Compositing Steps:\n",
    "\n",
    "**1. Determine categories**\n",
    "\n",
    "Typically, compositing involves sorting data into **two** categories or groups based on an *a priori* hypothesis as to why the variable being composited should depend on the category. \n",
    "\n",
    "For example, suppose that you want to test the hypothesis that a paricular variable is significantly different at mid-day versus very early morning. You would then sort your data into the two specific times of day that you are interested in and compare the statistics for these two groups. \n",
    "\n",
    "Other examples include:\n",
    "\n",
    "- you hypothesize that ENSO has an impact on California precipitation\n",
    "    - you categorize your precipitation data based on the phase on ENSO: La Niña and El Niño\n",
    "- you hypothesize that sea ice loss has an impact on extreme cold events in Toronto\n",
    "    - you categorize your temperature data based on years with high or low sea ice extent\n",
    "\n",
    "\n",
    "**2. Compute the statistics for each category**\n",
    "\n",
    "Typically, we are computing the sample means and standard deviations for each category and testing whether there is a significant difference between the sample means using a $z$/$t$-test or resampling, assuming a null hypothesis that there is no difference.\n",
    "\n",
    "**3. Validate Results**\n",
    "\n",
    "With composite analysis, it is always pertinent to check the robustness of your results. You can do this is a few ways:\n",
    "\n",
    "- subdivide the data and show whether the relationship exists in sub-samples of the data\n",
    "- perform the opposite composite analysis: e.g. categorize ENSO data based on two categories of high and low California precipitation.\n",
    "\n",
    "Let's take a look at compositing our California precipitation data based on the phase of ENSO. Recall, that we have already identified these data points in our previous scatter plots using blue and red colour-coding.\n",
    "\n",
    "First, we need to load the data."
   ]
  },
  {
   "cell_type": "code",
   "execution_count": 1,
   "metadata": {},
   "outputs": [],
   "source": [
    "# load packages\n",
    "import numpy as np\n",
    "import pickle as pickle\n",
    "import scipy.stats as st\n",
    "import matplotlib.pyplot as plt\n",
    "import matplotlib as mpl\n",
    "mpl.rc('font',size=16,weight='bold') #set default font size and weight for plots"
   ]
  },
  {
   "cell_type": "code",
   "execution_count": 2,
   "metadata": {},
   "outputs": [],
   "source": [
    "# ENSO Data:\n",
    "# unpickle NINO34 (units of degC)\n",
    "with open('NINO34_NDJF.pickle','rb') as fp: #.pickle files are a python file type\n",
    "    nino34 = pickle.load(fp,encoding='latin1')[0]\n",
    "\n",
    "#  Precipitation Data:\n",
    "#  unpickle CA_PRECIP_DJFM (units of mm/day)\n",
    "with open('CA_PRECIP_DJFM.pickle','rb') as fp: #.pickle files are a python file type\n",
    "    precip_djfm = pickle.load(fp,encoding='latin1')"
   ]
  },
  {
   "cell_type": "markdown",
   "metadata": {},
   "source": [
    "To categorize the data based on the phase of ENSO, we need to load the data that identifies El Niño and La Niña events."
   ]
  },
  {
   "cell_type": "code",
   "execution_count": null,
   "metadata": {},
   "outputs": [],
   "source": [
    "# unpickle data indicating strong El Niño/La Niña years\n",
    "with open('ENSO_NDJF_years_rev.pickle','rb') as fp:   #another .pickle file\n",
    "    elnino_yrs,lanina_yrs = pickle.load(fp,encoding='latin1')"
   ]
  },
  {
   "cell_type": "markdown",
   "metadata": {},
   "source": [
    "We now create composites of precipitation based on the phase on ENSO."
   ]
  },
  {
   "cell_type": "code",
   "execution_count": 5,
   "metadata": {},
   "outputs": [],
   "source": [
    "# create composites of precipitation based on El Niño/La Niña years\n",
    "ElNinoP = precip_djfm[np.squeeze(elnino_yrs)]\n",
    "LaNinaP = precip_djfm[np.squeeze(lanina_yrs)]"
   ]
  },
  {
   "cell_type": "markdown",
   "metadata": {},
   "source": [
    "The composite means of these two groups are:"
   ]
  },
  {
   "cell_type": "code",
   "execution_count": 14,
   "metadata": {},
   "outputs": [
    {
     "name": "stdout",
     "output_type": "stream",
     "text": [
      "3.18 2.04\n"
     ]
    }
   ],
   "source": [
    "# compute composite means\n",
    "print(np.round(np.mean(ElNinoP),2), np.round(np.mean(LaNinaP),2))"
   ]
  },
  {
   "cell_type": "markdown",
   "metadata": {},
   "source": [
    "They are different, but are they significantly different? Let's do a $t$-test to find out."
   ]
  },
  {
   "cell_type": "code",
   "execution_count": 13,
   "metadata": {},
   "outputs": [
    {
     "name": "stdout",
     "output_type": "stream",
     "text": [
      "Ttest_indResult(statistic=16.309292974049395, pvalue=3.600284735805449e-50)\n"
     ]
    }
   ],
   "source": [
    "# two-sample t-test\n",
    "composite_ttest = st.ttest_ind(ElNinoP,LaNinaP)\n",
    "print(composite_ttest)"
   ]
  },
  {
   "cell_type": "markdown",
   "metadata": {},
   "source": [
    "Yes, we find a significant difference between the two composites indicating that the phase of ENSO likely has an impact on California precipitation.\n",
    "\n",
    "We can plot the results in different ways, for example, a bar plot including the confidence intervals."
   ]
  },
  {
   "cell_type": "code",
   "execution_count": 24,
   "metadata": {},
   "outputs": [
    {
     "data": {
      "text/plain": [
       "Text(0.5, 1.0, 'Composite Analysis of CA Precipitation')"
      ]
     },
     "execution_count": 24,
     "metadata": {},
     "output_type": "execute_result"
    },
    {
     "data": {
      "image/png": "[encoded data removed]",
      "text/plain": [
       "<Figure size 720x360 with 1 Axes>"
      ]
     },
     "metadata": {
      "needs_background": "light"
     },
     "output_type": "display_data"
    }
   ],
   "source": [
    "# confidence interval critical t-values\n",
    "t_crit1 = st.t.ppf(0.975,len(ElNinoP)-1)\n",
    "t_crit2 = st.t.ppf(0.975,len(LaNinaP)-1)\n",
    "\n",
    "# plot composite means as bar plot\n",
    "labels = [\"El Niño\", \"La Niña\"]\n",
    "means = [np.mean(ElNinoP), np.mean(LaNinaP)]\n",
    "error = [t_crit1*np.std(ElNinoP,ddof=1)/np.sqrt(len(ElNinoP)),t_crit2*np.std(LaNinaP,ddof=1)/np.sqrt(len(LaNinaP))]\n",
    "barWidth = 0.5\n",
    "\n",
    "plt.figure(figsize = (10,5))\n",
    "plt.bar(labels,means,width = barWidth,yerr = error,capsize=7)\n",
    "plt.ylabel(\"CA Precipitation (mm day$^{-1}$)\")\n",
    "plt.title(\"Composite Analysis of CA Precipitation\")"
   ]
  },
  {
   "cell_type": "markdown",
   "metadata": {},
   "source": [
    "Similar to our linear regression analysis, we find that California precipitation depends on ENSO, with more (less) precipitation occuring when the tropical Pacific is in an El Niño (La Niña) phase.\n",
    "\n",
    "## Compositing versus Regression\n",
    "\n",
    "As mentioned above, compositing is often used as an alternative to linear regression. Here are a few pros and cons of compositing.\n",
    "\n",
    "**Advantages of compositing over regression:**\n",
    "- compositing can isolate nonlinear relationships\n",
    "- no assumptions need to be made about the underlying distributions (if $N$ is sufficiently large or if using resampling techniques)\n",
    "\n",
    "**Disadvantages of compositing over regression:**\n",
    "- compositing does not use all of the data (reduces $N$)\n",
    "- compositing tends to focus on the “extremes” of each category"
   ]
  },
  {
   "cell_type": "code",
   "execution_count": null,
   "metadata": {},
   "outputs": [],
   "source": []
  }
 ],
 "metadata": {
  "kernelspec": {
   "display_name": "Python 3",
   "language": "python",
   "name": "python3"
  },
  "language_info": {
   "codemirror_mode": {
    "name": "ipython",
    "version": 3
   },
   "file_extension": ".py",
   "mimetype": "text/x-python",
   "name": "python",
   "nbconvert_exporter": "python",
   "pygments_lexer": "ipython3",
   "version": "3.7.2"
  }
 },
 "nbformat": 4,
 "nbformat_minor": 4
}
