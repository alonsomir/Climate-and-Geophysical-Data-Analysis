{
 "cells": [
  {
   "cell_type": "markdown",
   "metadata": {},
   "source": [
    "# The Standard Normal Distribution\n",
    "\n",
    "In statistical analysis, we use probability to describe how likely a particular result (e.g. a sample mean) is relative to something else (e.g. the population mean). To do this, we will return to the concept of distributions. Many climate and geophysical variables have distributions with similar characteristics, so in this course, we will focus on this type of distribution, the **normal distribution**.\n",
    "\n",
    "## Probability Density Functions\n",
    "\n",
    "In the previous section on distributions, we used histograms to visualize the *discrete* probability distributions of surface air temperature data at the UTSC weather station. However, most variables that we will be working with are not discrete, they are *continuous*, and thus, we need a way to describe continuous probability distributions (see the [following][pdf] for more on discrete versus continuous probability distributions).\n",
    "\n",
    "Let's define a *probability density function* (PDF), a function that describes a probability distribution for a continuous variable, as $f(x)$.\n",
    "\n",
    "The probability of an event $x$ occurring between values $a$ and $b$ is then,\n",
    "\n",
    "$$\n",
    "Pr(a \\leq x \\leq b) = \\int_{a}^b f(x)dx\n",
    "$$\n",
    "\n",
    "where $f(x)$ is the **PDF** and has the following properties:\n",
    "\n",
    "- $f(x) \\geq 0$ for all $x$\n",
    "- $\\int_{-\\infty}^{\\infty} f(x)dx = 1$\n",
    "\n",
    "Note the similarities between the relative frequency plotted in our histograms and the PDF, both are always greater than or equal to zero and the area under both curves sums to 1 (Note that for our histograms, an unstated assumption was that each bin had a width of 1).\n",
    "\n",
    "### Cumulative Density Functions\n",
    "\n",
    "The **cumulative density function** (CDF) is analogous to the *discrete* cumulative probability distribution. The CDF at value $b$, denoted $F(b)$, is the probability that $x$ assumes a value less than $b$\n",
    "\n",
    "$$\n",
    "\\begin{align}\n",
    "Pr(x \\leq b) &= F(b)\n",
    "&= \\int_{-\\infty}^{b} f(x)dx\n",
    "\\end{align}\n",
    "$$\n",
    "\n",
    "So, for all $a$ $\\leq$ $b$, we can show that\n",
    "\n",
    "$$\n",
    "Pr(a \\leq x \\leq b) = F(b) - F(a)\n",
    "$$\n",
    "\n",
    "## The Normal Distribution\n",
    "\n",
    "So far, we have described probability density functions in general terms. Now, we will take a closer look at the **normal distribution**. \n",
    "\n",
    "The PDF of a variable $x$ that is *normally* distributed about its mean value is given by\n",
    "\n",
    "$$\n",
    "f(x) = \\frac{1}{\\sigma\\sqrt{2\\pi}}e^{\\frac{-(x-\\mu)^2}{2\\sigma^2}}\n",
    "$$\n",
    "\n",
    "where $\\mu$ is the population mean and $\\sigma$ is the population standard deviation (as before).\n",
    "\n",
    "The associated cumulative distribution function is\n",
    "\n",
    "$$\n",
    "F(b) = \\int_{-\\infty}^{b} \\frac{1}{\\sigma\\sqrt{2\\pi}}e^{\\frac{-(x-\\mu)^2}{2\\sigma^2}}dx\n",
    "$$\n",
    "\n",
    "and the probability that $x$ will fall between two values $a$ and $b$ is thus\n",
    "\n",
    "$$\n",
    "F(b) - F(a) = \\int_{a}^{b} \\frac{1}{\\sigma\\sqrt{2\\pi}}e^{\\frac{-(x-\\mu)^2}{2\\sigma^2}}dx\n",
    "$$\n",
    "\n",
    "Let's take a look at these functions for a given set of parameters. To make it easy on ourselves, we will use a python function that randomly samples from a normal distribution.\n",
    "\n",
    "\n",
    "[pdf]: https://www.themathdoctors.org/from-histograms-to-probability-distribution-functions/\n"
   ]
  },
  {
   "cell_type": "code",
   "execution_count": 1,
   "metadata": {
    "execution": {
     "iopub.execute_input": "2020-09-15T00:50:00.865913Z",
     "iopub.status.busy": "2020-09-15T00:50:00.865040Z",
     "iopub.status.idle": "2020-09-15T00:50:01.351489Z",
     "shell.execute_reply": "2020-09-15T00:50:01.352025Z"
    }
   },
   "outputs": [],
   "source": [
    "# import packages\n",
    "import numpy as np\n",
    "from matplotlib import pyplot as plt\n",
    "import matplotlib as mpl\n",
    "mpl.rc('font',size=16) #set default font size and weight for plots\n",
    "from IPython import display\n",
    "import time"
   ]
  },
  {
   "cell_type": "code",
   "execution_count": 2,
   "metadata": {
    "execution": {
     "iopub.execute_input": "2020-09-15T00:50:01.357142Z",
     "iopub.status.busy": "2020-09-15T00:50:01.356092Z",
     "iopub.status.idle": "2020-09-15T00:50:01.360045Z",
     "shell.execute_reply": "2020-09-15T00:50:01.360810Z"
    }
   },
   "outputs": [],
   "source": [
    "# draw random values from a normal distribution (mean = 0 and standard deviation = 1)\n",
    "mu = 0\n",
    "sigma = 1\n",
    "\n",
    "x = np.random.normal(mu, sigma, size = 5000) # sample size of 1000"
   ]
  },
  {
   "cell_type": "markdown",
   "metadata": {},
   "source": [
    "We can now plug the values for $x$ into our function and plot the normal distribution for $x$."
   ]
  },
  {
   "cell_type": "code",
   "execution_count": 3,
   "metadata": {
    "execution": {
     "iopub.execute_input": "2020-09-15T00:50:01.366545Z",
     "iopub.status.busy": "2020-09-15T00:50:01.365325Z",
     "iopub.status.idle": "2020-09-15T00:50:01.368666Z",
     "shell.execute_reply": "2020-09-15T00:50:01.369383Z"
    }
   },
   "outputs": [],
   "source": [
    "# first sort x so that it monotonically increases\n",
    "x = np.sort(x)\n",
    "# write down the function for the PDF\n",
    "f = (1 / (sigma * np.sqrt(2*np.pi))) * np.e**(-((x - mu)**2)/(2*sigma**2))"
   ]
  },
  {
   "cell_type": "markdown",
   "metadata": {},
   "source": [
    "Let's also compute the histogram for comparison."
   ]
  },
  {
   "cell_type": "code",
   "execution_count": 4,
   "metadata": {
    "execution": {
     "iopub.execute_input": "2020-09-15T00:50:01.375027Z",
     "iopub.status.busy": "2020-09-15T00:50:01.374182Z",
     "iopub.status.idle": "2020-09-15T00:50:01.377437Z",
     "shell.execute_reply": "2020-09-15T00:50:01.378038Z"
    }
   },
   "outputs": [],
   "source": [
    "xinc = np.arange(-3,3,.25) # increments denote the bin size\n",
    "hx = np.histogram(x,xinc)"
   ]
  },
  {
   "cell_type": "code",
   "execution_count": 5,
   "metadata": {
    "execution": {
     "iopub.execute_input": "2020-09-15T00:50:01.424940Z",
     "iopub.status.busy": "2020-09-15T00:50:01.388135Z",
     "iopub.status.idle": "2020-09-15T00:50:02.208808Z",
     "shell.execute_reply": "2020-09-15T00:50:02.209541Z"
    }
   },
   "outputs": [
    {
     "data": {
      "text/plain": [
       "(-3, 3)"
      ]
     },
     "execution_count": 5,
     "metadata": {},
     "output_type": "execute_result"
    },
    {
     "data": {
      "image/png": "[encoded data removed]",
      "text/plain": [
       "<Figure size 1440x432 with 2 Axes>"
      ]
     },
     "metadata": {
      "filenames": {
       "image/png": "/Users/Karen/Dropbox/Climate-and-Geophysical-Data-Analysis/_build/jupyter_execute/chapters/Week2/normdist_7_1.png"
      },
      "needs_background": "light"
     },
     "output_type": "display_data"
    }
   ],
   "source": [
    "plt.figure(figsize=(20,6))\n",
    "\n",
    "# PDF\n",
    "plt.subplot(1,2,1)\n",
    "plt.scatter(x,f)\n",
    "\n",
    "# add labels\n",
    "plt.xlabel('x values')\n",
    "plt.ylabel('Probability')\n",
    "plt.title('PDF ($\\mu$ = 0, $\\sigma$ = 1)')\n",
    "plt.xlim(-3,3)\n",
    "\n",
    "# histogram\n",
    "plt.subplot(1,2,2)\n",
    "plt.scatter(hx[1][:-1],hx[0]/np.size(x))\n",
    "\n",
    "# add labels\n",
    "plt.xlabel('x values')\n",
    "plt.ylabel('Probability')\n",
    "plt.title('Histogram ($\\mu$ = 0, $\\sigma$ = 1)')\n",
    "plt.xlim(-3,3)"
   ]
  },
  {
   "cell_type": "markdown",
   "metadata": {},
   "source": [
    "The normal distribution is often described as a *bell curve* due to its bell shape, as we can clearly see here.\n",
    "\n",
    "Note that the y-axes are different because the histogram has discrete bin sizes. If we plot the continuous and discrete cumulative distributions, we can overcome this bin size issue. We will import a scipy package to help us with the integration."
   ]
  },
  {
   "cell_type": "code",
   "execution_count": 6,
   "metadata": {
    "execution": {
     "iopub.execute_input": "2020-09-15T00:50:02.216108Z",
     "iopub.status.busy": "2020-09-15T00:50:02.213864Z",
     "iopub.status.idle": "2020-09-15T00:50:02.507025Z",
     "shell.execute_reply": "2020-09-15T00:50:02.507517Z"
    }
   },
   "outputs": [],
   "source": [
    "# import integration package\n",
    "import scipy.integrate as integrate\n",
    "\n",
    "# integrate f as a function of x\n",
    "F = integrate.cumtrapz(f,x) #the cumtrapz integration algorithm is what we want\n",
    "\n",
    "# cumulatively sum the histogram (as we have done previously)\n",
    "hxx = np.cumsum(hx[0])"
   ]
  },
  {
   "cell_type": "code",
   "execution_count": 7,
   "metadata": {
    "execution": {
     "iopub.execute_input": "2020-09-15T00:50:02.523096Z",
     "iopub.status.busy": "2020-09-15T00:50:02.522185Z",
     "iopub.status.idle": "2020-09-15T00:50:02.939404Z",
     "shell.execute_reply": "2020-09-15T00:50:02.939931Z"
    }
   },
   "outputs": [
    {
     "data": {
      "text/plain": [
       "(-3, 3)"
      ]
     },
     "execution_count": 7,
     "metadata": {},
     "output_type": "execute_result"
    },
    {
     "data": {
      "image/png": "[encoded data removed]",
      "text/plain": [
       "<Figure size 1440x432 with 2 Axes>"
      ]
     },
     "metadata": {
      "filenames": {
       "image/png": "/Users/Karen/Dropbox/Climate-and-Geophysical-Data-Analysis/_build/jupyter_execute/chapters/Week2/normdist_10_1.png"
      },
      "needs_background": "light"
     },
     "output_type": "display_data"
    }
   ],
   "source": [
    "plt.figure(figsize=(20,6))\n",
    "\n",
    "# CDF\n",
    "plt.subplot(1,2,1)\n",
    "plt.scatter(x[:-1],F)\n",
    "\n",
    "# add labels\n",
    "plt.xlabel('x values')\n",
    "plt.ylabel('Probability')\n",
    "plt.title('CDF ($\\mu$ = 0, $\\sigma$ = 1)')\n",
    "plt.xlim(-3,3)\n",
    "\n",
    "# discrete cumulative distribution\n",
    "plt.subplot(1,2,2)\n",
    "plt.scatter(hx[1][:-1],hxx/np.size(x))\n",
    "\n",
    "# add labels\n",
    "plt.xlabel('x values')\n",
    "plt.ylabel('Probability')\n",
    "plt.title('Discrete Cumulative Distribution ($\\mu$ = 0, $\\sigma$ = 1)')\n",
    "plt.xlim(-3,3)"
   ]
  },
  {
   "cell_type": "markdown",
   "metadata": {},
   "source": [
    "### The *Standard* Normal Distribution\n",
    "\n",
    "The form of the normal distribution that we will use most often is the **standard normal** distribution. The standard normal distribution arises when one *standardizes* a normally distributed variable $x$.\n",
    "\n",
    "Standardization involves subtracting the mean and dividing by the standard deviation. We will denote the standardized version of $x$ as\n",
    "\n",
    "$$\n",
    "z = \\frac{x - \\mu}{\\sigma}\n",
    "$$\n",
    "\n",
    "Thus, the mean of $z$ is zero and the standard deviation is 1. This is the case that we just examined above. So, if $z$ has a value of 1, it has a value that is one standard deviation above the mean.\n",
    "\n",
    "$z$ is sometimes called the *$z$-score* or the *$z$-statistic*.\n",
    "\n",
    "Using $z$, we can rewrite the function for the PDF of the standard normal distribution:\n",
    "\n",
    "$$\n",
    "f(z) = \\frac{1}{\\sqrt{2\\pi}}e^{\\frac{-z^2}{2}}\n",
    "$$\n",
    "\n",
    "Using the standard normal distribution, we can assess the probability that $z$ falls within a certain range. [Figure 6](stdnorm) illustrates some examples of this\n",
    "\n",
    "```{figure} stdnorm.png\n",
    "---\n",
    "scale: 65%\n",
    "name: stdnorm\n",
    "---\n",
    "[Examples](https://mathsisfun.com/data/standard-normal-distribution.html) of probability ranges for the standard normal distribution.\n",
    "```"
   ]
  },
  {
   "cell_type": "markdown",
   "metadata": {},
   "source": [
    "Let's take a look at how to do this in the next section."
   ]
  },
  {
   "cell_type": "code",
   "execution_count": null,
   "metadata": {},
   "outputs": [],
   "source": []
  }
 ],
 "metadata": {
  "kernelspec": {
   "display_name": "Python 3",
   "language": "python",
   "name": "python3"
  },
  "language_info": {
   "codemirror_mode": {
    "name": "ipython",
    "version": 3
   },
   "file_extension": ".py",
   "mimetype": "text/x-python",
   "name": "python",
   "nbconvert_exporter": "python",
   "pygments_lexer": "ipython3",
   "version": "3.6.8"
  }
 },
 "nbformat": 4,
 "nbformat_minor": 4
}